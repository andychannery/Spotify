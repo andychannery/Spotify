{
 "cells": [
  {
   "attachments": {},
   "cell_type": "markdown",
   "metadata": {},
   "source": [
    "# Exploratory Data Analysis"
   ]
  },
  {
   "attachments": {},
   "cell_type": "markdown",
   "metadata": {},
   "source": [
    "## Libraries"
   ]
  },
  {
   "cell_type": "code",
   "execution_count": 1,
   "metadata": {},
   "outputs": [],
   "source": [
    "# import other files\n",
    "import sys\n",
    "\n",
    "sys.path.append(\"..\")"
   ]
  },
  {
   "cell_type": "code",
   "execution_count": 2,
   "metadata": {},
   "outputs": [],
   "source": [
    "# common functions\n",
    "from common import missing_data_check, plot_histograms\n",
    "# fetch functions\n",
    "from etl.fetch import *\n",
    "# environment variables\n",
    "from dotenv import load_dotenv\n",
    "import os\n",
    "# data visualization\n",
    "import matplotlib.pyplot as plt\n",
    "import matplotlib.cm as cm\n",
    "import matplotlib.colors\n",
    "# working with data\n",
    "import numpy as np\n",
    "from collections import Counter\n",
    "from itertools import chain\n",
    "from sklearn.preprocessing import MinMaxScaler"
   ]
  },
  {
   "attachments": {},
   "cell_type": "markdown",
   "metadata": {},
   "source": [
    "## Consolidating Data"
   ]
  },
  {
   "cell_type": "code",
   "execution_count": 3,
   "metadata": {},
   "outputs": [
    {
     "name": "stderr",
     "output_type": "stream",
     "text": [
      "2024-05-13 14:11:57 INFO Fetching tracks...\n",
      "2024-05-13 14:11:59 INFO Fetching tracks...\n",
      "2024-05-13 14:12:06 INFO Fetching track features...\n",
      "2024-05-13 14:12:09 INFO Fetching artist(s)...\n"
     ]
    }
   ],
   "source": [
    "# load environment variables\n",
    "load_dotenv()\n",
    "\n",
    "like_playlist_id = os.getenv(\"LIKE_PLAYLIST_ID\")\n",
    "dislike_playlist_id = os.getenv(\"DISLIKE_PLAYLIST_ID\")\n",
    "\n",
    "token = get_token()\n",
    "\n",
    "'''\n",
    "Personal playlist columns:\n",
    "- artist_id, track_id, track_name, popularity, user_like\n",
    "'''\n",
    "like_playlist = get_playlist_tracks(token, like_playlist_id)\n",
    "like_playlist['user_like'] = True\n",
    "dislike_playlist = get_playlist_tracks(token, dislike_playlist_id)\n",
    "dislike_playlist['user_like'] = False\n",
    "songs = pd.concat([like_playlist, dislike_playlist])\n",
    "\n",
    "'''\n",
    "Track feature columns:\n",
    "- 'danceability', 'energy', 'key', 'loudness', 'mode', 'speechiness',\n",
    "    'acousticness', 'instrumentalness', 'liveness', 'valence', 'tempo',\n",
    "    'type', 'id', 'uri', 'track_href', 'analysis_url', 'duration_ms',\n",
    "    'time_signature'\n",
    "'''\n",
    "track_ids = songs.track_id.to_list()\n",
    "track_features = get_track_features(token, track_ids).drop(columns=['analysis_url', 'track_href', 'type', 'uri'])\n",
    "\n",
    "'''\n",
    "Artist feature columns:\n",
    "- 'artist_id', 'genres', 'name', 'popularity'\n",
    "'''\n",
    "artist_ids = songs.artist_id.to_list()\n",
    "artist_features = get_artist_attribute(token, artist_ids).drop(columns=['name', 'popularity'])"
   ]
  },
  {
   "attachments": {},
   "cell_type": "markdown",
   "metadata": {},
   "source": [
    "## Exploratory Analysis"
   ]
  },
  {
   "cell_type": "code",
   "execution_count": null,
   "metadata": {},
   "outputs": [],
   "source": [
    "missing_data_check(track_features)"
   ]
  },
  {
   "cell_type": "code",
   "execution_count": null,
   "metadata": {},
   "outputs": [],
   "source": [
    "track_features.describe()"
   ]
  },
  {
   "attachments": {},
   "cell_type": "markdown",
   "metadata": {},
   "source": [
    "Checked to see if for any reason any of the tracks have missing audio features. This does not seem to be the case.\n",
    "\n",
    "We note that:\n",
    "- key is a categorical variable representing the key the track is in and can range from -1 to 11 (0 to 11 in our case)\n",
    "- mode is binary and indicates the modality of a track (major or minor) where 1 is major and 0 is minor\n",
    "- time_signature is an ordinal variable specifying the number of beats in each bar and can range from 3 to 7 (3 to 5 in our case)\n",
    "- loudness, key, tempo, and duration_ms are continuous numerical variables that we can rescale to range from 0 and 1\n",
    "- the rest of the variables are continuous numerical and are all already scaled between 0 and 1"
   ]
  },
  {
   "cell_type": "code",
   "execution_count": null,
   "metadata": {},
   "outputs": [],
   "source": [
    "# Normalization: X_new = (X — X_min)/ (X_max — X_min)\n",
    "def normalize(df, features):\n",
    "    for feature in features:\n",
    "        df[feature] = (df[feature] - min(df[feature]))/(max(df[feature]) - min(df[feature]))\n",
    "\n",
    "# normalize the continuous numerical features as mentioned\n",
    "normalize(track_features, ['loudness', 'key', 'tempo', 'duration_ms'])"
   ]
  },
  {
   "cell_type": "code",
   "execution_count": null,
   "metadata": {},
   "outputs": [],
   "source": [
    "track_features.describe()"
   ]
  },
  {
   "cell_type": "code",
   "execution_count": null,
   "metadata": {},
   "outputs": [],
   "source": [
    "songs.user_like.describe()"
   ]
  },
  {
   "attachments": {},
   "cell_type": "markdown",
   "metadata": {},
   "source": [
    "Of the 481 songs in the dataset, 284 are labelled dislike (59%) and 197 are labelled like (41%). This imbalance should be noted for later when the dataset is split into training/testing and during modelling as well."
   ]
  },
  {
   "cell_type": "code",
   "execution_count": null,
   "metadata": {},
   "outputs": [],
   "source": [
    "def missing_genres_check(dataframe):\n",
    "    data = dataframe.copy(deep=True)\n",
    "    data['is_missing_genre'] = data.genres.astype(bool)    \n",
    "    total = data.is_missing_genre[data.is_missing_genre == False].count()\n",
    "    pct = (total / data.is_missing_genre.count()) * 100\n",
    "    result = pd.DataFrame({'Total':total, 'Percent':pct}, index=['is_missing_genre'])\n",
    "    return result\n",
    "\n",
    "missing_genres_check(artist_features)"
   ]
  },
  {
   "attachments": {},
   "cell_type": "markdown",
   "metadata": {},
   "source": [
    "We have that ~13% of the artists in my personal playlist are missing genres. This might be because these artists are not as well known and so Spotify has yet to assign them a genre."
   ]
  },
  {
   "attachments": {},
   "cell_type": "markdown",
   "metadata": {},
   "source": [
    "An interesting observation is that genres are associated with an artist rather than a song. If I were to associate a song's genre(s) by its artist(s), this would mean that the song would belong to all of the genres of all of the participating artists. This assumption may cause problems when a particular artist has multiple genres that are vastly different but I will proceed this way for simplicity's sake."
   ]
  },
  {
   "cell_type": "code",
   "execution_count": null,
   "metadata": {},
   "outputs": [],
   "source": [
    "# Drop artists with no genres assigned\n",
    "artist_features = artist_features[artist_features['genres'].apply(len) > 0].reset_index(drop=True)"
   ]
  },
  {
   "cell_type": "code",
   "execution_count": null,
   "metadata": {},
   "outputs": [],
   "source": [
    "# Build final dataframe\n",
    "df = songs.merge(track_features, how='inner', left_on='track_id', right_on='id').drop(columns=['id'])\n",
    "# Split up artist(s) for each song\n",
    "df_artists = df['artist_id'].str.split(',', expand=True)"
   ]
  },
  {
   "cell_type": "code",
   "execution_count": null,
   "metadata": {},
   "outputs": [],
   "source": [
    "# Create artist column for max number of artists associated with a song\n",
    "for col in range(len(df_artists.columns)):\n",
    "    df[f'artist_id{col}'] = df_artists[col]\n",
    "df = df.drop(columns=['artist_id'])\n",
    "# Join in genres on artist ids\n",
    "for col in range(len(df_artists.columns)):\n",
    "    df = df.merge(\n",
    "            artist_features, how='left', left_on=f'artist_id{col}', right_on='artist_id'\n",
    "            ).drop(\n",
    "                columns=['artist_id', f'artist_id{col}']\n",
    "                ).rename(\n",
    "                    columns={'genres':f'genres{col}'}\n",
    "                )\n",
    "df = df.replace(np.nan, \"\")"
   ]
  },
  {
   "cell_type": "markdown",
   "metadata": {},
   "source": [
    "Check the genres associated with each song..."
   ]
  },
  {
   "cell_type": "code",
   "execution_count": null,
   "metadata": {},
   "outputs": [],
   "source": [
    "genre_columns = [f'genres{i}' for i in range(len(df_artists.columns))]\n",
    "columns = ['track_name']\n",
    "columns.extend(genre_columns)\n",
    "df[columns]"
   ]
  },
  {
   "cell_type": "code",
   "execution_count": null,
   "metadata": {},
   "outputs": [],
   "source": [
    "# Merge lists of genres across columns\n",
    "def combine_lists(row):\n",
    "    combined_list = []\n",
    "    for col in row:\n",
    "        if len(col) > 0:\n",
    "            combined_list.extend(col)\n",
    "    return list(set(combined_list))\n",
    "\n",
    "# Combine genres columns\n",
    "df['genres'] = df[genre_columns].apply(combine_lists, axis=1)\n",
    "df = df.drop(columns=genre_columns)\n"
   ]
  },
  {
   "cell_type": "code",
   "execution_count": null,
   "metadata": {},
   "outputs": [],
   "source": [
    "# Check missing genre distribution amongst like and dislike songs\n",
    "missing_genres_like_songs = len(df[(df.user_like == True) & (df.genres.apply(len) == 0)])\n",
    "missing_genres_dislike_songs = len(df[(df.user_like == False) & (df.genres.apply(len) == 0)])\n",
    "print(f\"Like songs: {missing_genres_like_songs}, Dislike songs: {missing_genres_dislike_songs}\")"
   ]
  },
  {
   "cell_type": "markdown",
   "metadata": {},
   "source": [
    "Considering only 7% of my like songs are missing genres and around 17.5% of my dislike songs are missing genres, I decide to remove songs with no genres from the dataset. Although I end up with a smaller dataset, this deletion lessens the effects of my imbalanced data class distribution."
   ]
  },
  {
   "cell_type": "code",
   "execution_count": null,
   "metadata": {},
   "outputs": [],
   "source": [
    "# Drop songs with no genres\n",
    "df = df[df.genres.apply(len) > 0].reset_index(drop=True)"
   ]
  },
  {
   "attachments": {},
   "cell_type": "markdown",
   "metadata": {},
   "source": [
    "Now visualizing the audio features of songs that I like vs. songs that I do not like..."
   ]
  },
  {
   "cell_type": "code",
   "execution_count": null,
   "metadata": {},
   "outputs": [],
   "source": [
    "# TODO: data visualization on distribution of audio features\n",
    "# TODO: data visualization on distribution of genres\n",
    "\n",
    "features = df[df.user_like == True][['danceability', 'energy', 'key', 'loudness', 'mode', 'speechiness',\n",
    "       'acousticness', 'instrumentalness', 'liveness', 'valence', 'tempo', 'duration_ms', 'time_signature']]\n",
    "\n",
    "plot_histograms(features)"
   ]
  },
  {
   "cell_type": "code",
   "execution_count": null,
   "metadata": {},
   "outputs": [],
   "source": [
    "features = df[df.user_like == False][['danceability', 'energy', 'key', 'loudness', 'mode', 'speechiness',\n",
    "       'acousticness', 'instrumentalness', 'liveness', 'valence', 'tempo', 'duration_ms', 'time_signature']]\n",
    "\n",
    "plot_histograms(features)"
   ]
  },
  {
   "attachments": {},
   "cell_type": "markdown",
   "metadata": {},
   "source": [
    "There are 481 songs in total, 197 liked songs and 284 disliked songs. \n",
    "\n",
    "Summary of exploratory analysis on audio features:\n",
    "- Songs that I dislike are on average: \n",
    "    - higher in danceability and energy\n",
    "    - similar in loudness but skewed left heavier (i.e. some songs are a lot louder)\n",
    "- Other audio features, based on visual inspection, are either similar or have negligible differences\n"
   ]
  },
  {
   "cell_type": "code",
   "execution_count": null,
   "metadata": {},
   "outputs": [],
   "source": [
    "like_genres = df[df.user_like == True]['genres'].explode().value_counts().reset_index()\n",
    "like_genres.columns = ['Genre', 'Frequency']\n",
    "dislike_genres = df[df.user_like == False]['genres'].explode().value_counts().reset_index()\n",
    "dislike_genres.columns = ['Genre', 'Frequency']\n"
   ]
  },
  {
   "cell_type": "code",
   "execution_count": null,
   "metadata": {},
   "outputs": [],
   "source": [
    "like_most_freq_genre = like_genres[like_genres.Frequency == max(like_genres.Frequency)]\n",
    "like_least_freq_genre = like_genres[like_genres.Frequency == min(like_genres.Frequency)]\n",
    "dislike_most_freq_genre = dislike_genres[dislike_genres.Frequency == max(dislike_genres.Frequency)]\n",
    "dislike_least_freq_genre = dislike_genres[dislike_genres.Frequency == min(dislike_genres.Frequency)]"
   ]
  },
  {
   "cell_type": "code",
   "execution_count": null,
   "metadata": {},
   "outputs": [],
   "source": [
    "like_songs_sparse_genre = round(like_genres[like_genres.Frequency == 1].shape[0] / like_genres.shape[0] * 100, 2)\n",
    "dislike_songs_sparse_genre = round(dislike_genres[dislike_genres.Frequency == 1].shape[0] / dislike_genres.shape[0] * 100, 2)\n",
    "\n",
    "res = pd.DataFrame({'Sparsity_Percent': [like_songs_sparse_genre, dislike_songs_sparse_genre]}, index=['Like_Songs', 'Dislike_Songs'])\n",
    "res"
   ]
  },
  {
   "cell_type": "markdown",
   "metadata": {},
   "source": [
    "Considering around half of the genres of both like and dislike songs are sparse, it might be beneficial to group similar genres together."
   ]
  },
  {
   "cell_type": "code",
   "execution_count": null,
   "metadata": {},
   "outputs": [],
   "source": [
    "exploded_genres = pd.DataFrame(df['genres'].explode()).reset_index()\n",
    "exploded_genres.columns = ['idx', 'genre']"
   ]
  },
  {
   "cell_type": "code",
   "execution_count": null,
   "metadata": {},
   "outputs": [],
   "source": [
    "# exploded_genres[exploded_genres['genre'].apply(lambda f: f.find('pop') != -1)]\n",
    "set(exploded_genres[exploded_genres['genre'].apply(lambda f: f.find('pop') != -1)]['genre'])"
   ]
  },
  {
   "cell_type": "code",
   "execution_count": null,
   "metadata": {},
   "outputs": [],
   "source": [
    "like_most_freq_genre, dislike_most_freq_genre"
   ]
  },
  {
   "cell_type": "code",
   "execution_count": null,
   "metadata": {},
   "outputs": [],
   "source": [
    "like_least_freq_genre, dislike_least_freq_genre"
   ]
  },
  {
   "cell_type": "code",
   "execution_count": null,
   "metadata": {},
   "outputs": [],
   "source": [
    "missing_genres_check(df[df.user_like == True]), missing_genres_check(df[df.user_like == False])"
   ]
  },
  {
   "attachments": {},
   "cell_type": "markdown",
   "metadata": {},
   "source": [
    "Of the 482 songs in total, 34 songs are missing genres where 11 are liked songs and 23 are disliked songs.\n",
    "\n",
    "Of the liked songs the pop genre is the most frequent. In fact, 60 songs are considered pop songs making up ~30% of all liked songs. On the otherhand, 71 genres amongst liked songs are only assigned to one song.\n",
    "\n",
    "Of the disliked songs the pop genre is also the most frequent. 69 songs are considered pop songs making up ~24% of all disliked songs and 184 genres only have one song associated with them.\n",
    "\n",
    "Judging from the sparsity of genres, this may indicate that genres, at least in how I attributed them to each song, may not be a very useful feature to include. I'll keep this in mind as I build my models."
   ]
  },
  {
   "attachments": {},
   "cell_type": "markdown",
   "metadata": {},
   "source": [
    "## Write To CSV"
   ]
  },
  {
   "cell_type": "code",
   "execution_count": null,
   "metadata": {},
   "outputs": [],
   "source": [
    "# relabelling for model building\n",
    "df.user_like.replace({True: 1, False: 0}, inplace=True)\n",
    "df.to_csv(\"songs.csv\", index=False)"
   ]
  }
 ],
 "metadata": {
  "kernelspec": {
   "display_name": "projenv",
   "language": "python",
   "name": "python3"
  },
  "language_info": {
   "codemirror_mode": {
    "name": "ipython",
    "version": 3
   },
   "file_extension": ".py",
   "mimetype": "text/x-python",
   "name": "python",
   "nbconvert_exporter": "python",
   "pygments_lexer": "ipython3",
   "version": "3.10.0"
  },
  "orig_nbformat": 4
 },
 "nbformat": 4,
 "nbformat_minor": 2
}
