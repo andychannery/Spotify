{
 "cells": [
  {
   "cell_type": "code",
   "execution_count": 1,
   "metadata": {},
   "outputs": [],
   "source": [
    "# etl helpers\n",
    "from etl.common import get_token\n",
    "from etl.fetch import get_playlist_tracks, get_track_uris\n",
    "from etl.write import write_to_playlist, remove_from_playlist\n",
    "# environment variables\n",
    "import os\n",
    "# logger\n",
    "import logging"
   ]
  },
  {
   "cell_type": "code",
   "execution_count": 2,
   "metadata": {},
   "outputs": [],
   "source": [
    "token = get_token()"
   ]
  },
  {
   "cell_type": "code",
   "execution_count": 3,
   "metadata": {},
   "outputs": [
    {
     "name": "stderr",
     "output_type": "stream",
     "text": [
      "2024-05-13 16:30:35 INFO Fetching tracks...\n",
      "2024-05-13 16:30:37 INFO Fetching tracks...\n",
      "2024-05-13 16:30:37 INFO There are no songs in this playlist...\n",
      "2024-05-13 16:30:37 INFO Fetching tracks...\n",
      "2024-05-13 16:30:37 INFO There are no songs in this playlist...\n",
      "2024-05-13 16:30:37 INFO Fetching tracks...\n",
      "2024-05-13 16:30:45 INFO Fetching tracks...\n"
     ]
    }
   ],
   "source": [
    "# fetch playlist data\n",
    "personal_playlist_tracks = set(get_playlist_tracks(token, os.getenv(\"PERSONAL_PLAYLIST_ID\"))['track_id'])\n",
    "predicted_dislike_tracks = set(get_playlist_tracks(token, os.getenv(\"PREDICTED_DISLIKE_ID\"))['track_id'])\n",
    "predicted_like_tracks = set(get_playlist_tracks(token, os.getenv(\"PREDICTED_LIKE_ID\"))['track_id'])\n",
    "dislike_tracks = set(get_playlist_tracks(token, os.getenv(\"DISLIKE_PLAYLIST_ID\"))['track_id'])\n",
    "like_tracks = set(get_playlist_tracks(token, os.getenv(\"LIKE_PLAYLIST_ID\"))['track_id'])"
   ]
  },
  {
   "cell_type": "code",
   "execution_count": 4,
   "metadata": {},
   "outputs": [],
   "source": [
    "# assign like predictions to actual like and dislike\n",
    "to_like_playlist = predicted_like_tracks.intersection(personal_playlist_tracks)\n",
    "# assume dislike predicts are accurate\n",
    "to_dislike_playlist = predicted_dislike_tracks.union(predicted_like_tracks.difference(to_like_playlist))\n",
    "# only add new songs to like and dislike\n",
    "to_like_playlist = to_like_playlist.difference(like_tracks)\n",
    "to_dislike_playlist = to_dislike_playlist.difference(dislike_tracks)"
   ]
  },
  {
   "cell_type": "code",
   "execution_count": 5,
   "metadata": {},
   "outputs": [],
   "source": [
    "# get uris for songs to load\n",
    "for playlist, to_playlist_id in zip([to_like_playlist, to_dislike_playlist], [os.getenv(\"LIKE_PLAYLIST_ID\"), os.getenv(\"DISLIKE_PLAYLIST_ID\")]):\n",
    "    if len(playlist) > 0:\n",
    "        # fetch song uris\n",
    "        uris = get_track_uris(token, list(playlist))\n",
    "        # write songs to playlist\n",
    "        write_to_playlist(token, uris, to_playlist_id)   "
   ]
  },
  {
   "cell_type": "code",
   "execution_count": 6,
   "metadata": {},
   "outputs": [
    {
     "name": "stderr",
     "output_type": "stream",
     "text": [
      "2024-05-13 16:30:47 INFO Removing tracks from playlist...\n",
      "2024-05-13 16:30:47 INFO No tracks to remove from playlist...\n",
      "2024-05-13 16:30:47 INFO Removing tracks from playlist...\n",
      "2024-05-13 16:30:47 INFO No tracks to remove from playlist...\n"
     ]
    }
   ],
   "source": [
    "# remove songs from prediction playlists\n",
    "remove_from_playlist(token, list(predicted_like_tracks), os.getenv(\"PREDICTED_LIKE_ID\"))\n",
    "remove_from_playlist(token, list(predicted_dislike_tracks), os.getenv(\"PREDICTED_DISLIKE_ID\"))"
   ]
  }
 ],
 "metadata": {
  "kernelspec": {
   "display_name": "spotify",
   "language": "python",
   "name": "python3"
  },
  "language_info": {
   "codemirror_mode": {
    "name": "ipython",
    "version": 3
   },
   "file_extension": ".py",
   "mimetype": "text/x-python",
   "name": "python",
   "nbconvert_exporter": "python",
   "pygments_lexer": "ipython3",
   "version": "3.10.0"
  }
 },
 "nbformat": 4,
 "nbformat_minor": 2
}
